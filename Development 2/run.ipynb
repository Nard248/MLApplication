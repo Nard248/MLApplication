{
 "cells": [
  {
   "cell_type": "code",
   "metadata": {
    "ExecuteTime": {
     "end_time": "2025-04-27T16:45:10.080093Z",
     "start_time": "2025-04-27T16:45:06.750627Z"
    }
   },
   "source": [
    "import os\n",
    "import cv2\n",
    "import torch\n",
    "import numpy as np\n",
    "import matplotlib.pyplot as plt\n",
    "import matplotlib.gridspec as gridspec\n",
    "\n",
    "from datetime import datetime\n",
    "from tqdm import tqdm\n",
    "\n",
    "from Models.Model import *\n",
    "from data_generation.generate_data import Simulation\n",
    "from data_generation.plotting import PlotBuilder\n",
    "from data_generation.plotting import plot_state_and_myu"
   ],
   "outputs": [],
   "execution_count": 1
  },
  {
   "metadata": {
    "ExecuteTime": {
     "end_time": "2025-04-27T16:45:10.377019Z",
     "start_time": "2025-04-27T16:45:10.370278Z"
    }
   },
   "cell_type": "code",
   "source": [
    "simulation = Simulation(\n",
    "    d=(0.0005, 0.15, 0.15),\n",
    "    N=(750, 64, 64),\n",
    "    myu_size=(50, 4, 4),\n",
    "    myu_mstd=(1.0, 10.5)\n",
    ")"
   ],
   "outputs": [],
   "execution_count": 2
  },
  {
   "metadata": {
    "ExecuteTime": {
     "end_time": "2025-04-27T16:45:10.784535Z",
     "start_time": "2025-04-27T16:45:10.405547Z"
    }
   },
   "cell_type": "code",
   "source": "state, myu = simulation.compute()",
   "outputs": [
    {
     "name": "stderr",
     "output_type": "stream",
     "text": [
      "Computing States: 100%|██████████| 749/749 [00:00<00:00, 2147.17it/s]\n"
     ]
    }
   ],
   "execution_count": 3
  },
  {
   "metadata": {
    "ExecuteTime": {
     "end_time": "2025-04-27T16:45:11.238481Z",
     "start_time": "2025-04-27T16:45:10.820190Z"
    }
   },
   "cell_type": "code",
   "source": "from Models.NewModel import AdaptedPINN, prepare_data",
   "outputs": [],
   "execution_count": 4
  },
  {
   "metadata": {
    "ExecuteTime": {
     "end_time": "2025-04-27T16:45:11.403269Z",
     "start_time": "2025-04-27T16:45:11.264113Z"
    }
   },
   "cell_type": "code",
   "source": [
    "model = AdaptedPINN(\n",
    "    Nt=750,\n",
    "    Nx=64,\n",
    "    Ny=64,\n",
    "    dt=0.05,\n",
    "    dx=0.3,\n",
    "    dy=0.3,\n",
    "    delta=0.01,\n",
    "    weight_pde=0.1,\n",
    "    device='cuda'\n",
    ")"
   ],
   "outputs": [],
   "execution_count": 5
  },
  {
   "metadata": {
    "jupyter": {
     "is_executing": true
    },
    "ExecuteTime": {
     "start_time": "2025-04-27T16:45:11.427298Z"
    }
   },
   "cell_type": "code",
   "source": [
    "data_tensors = prepare_data(state, myu)\n",
    "model.train_model(\n",
    "    data_tensors['x_data'], data_tensors['y_data'], data_tensors['t_data'],\n",
    "    data_tensors['Ar_data'], data_tensors['Ai_data'],\n",
    "    data_tensors['x_eqs'], data_tensors['y_eqs'], data_tensors['t_eqs'],\n",
    "    n_epochs=5000,\n",
    "    lr=1e-3,\n",
    "    batch_size=512\n",
    ")"
   ],
   "outputs": [
    {
     "name": "stdout",
     "output_type": "stream",
     "text": [
      "Epoch 0: Train Loss = 1.6936e+05, Val Loss = 1.4766e+02\n"
     ]
    }
   ],
   "execution_count": null
  }
 ],
 "metadata": {
  "kernelspec": {
   "display_name": ".cudaenv",
   "language": "python",
   "name": "python3"
  },
  "language_info": {
   "codemirror_mode": {
    "name": "ipython",
    "version": 3
   },
   "file_extension": ".py",
   "mimetype": "text/x-python",
   "name": "python",
   "nbconvert_exporter": "python",
   "pygments_lexer": "ipython3",
   "version": "3.11.5"
  },
  "orig_nbformat": 4
 },
 "nbformat": 4,
 "nbformat_minor": 2
}
