{
 "cells": [
  {
   "cell_type": "code",
   "id": "initial_id",
   "metadata": {
    "collapsed": true,
    "ExecuteTime": {
     "end_time": "2025-01-11T22:29:10.339727Z",
     "start_time": "2025-01-11T22:29:10.017891Z"
    }
   },
   "source": [
    "from src.simulation.simulation import *\n",
    "import matplotlib.pyplot as plt\n",
    "\n",
    "import torch\n",
    "import numpy as np\n",
    "import torch.nn as nn\n",
    "from torch import optim\n",
    "from torch.utils.data import DataLoader\n",
    "from torch.cuda.amp import GradScaler, autocast\n",
    "\n",
    "from src.utils.dataset_utils import *\n",
    "from src.utils.plot_builder.plot_builder import *\n",
    "from src.utils.plot_builder.plot_types import *\n",
    "from src.models.fcnn import FCNN\n",
    "\n",
    "import os"
   ],
   "outputs": [],
   "execution_count": 3
  },
  {
   "metadata": {
    "ExecuteTime": {
     "end_time": "2025-01-11T22:26:26.165281Z",
     "start_time": "2025-01-11T22:26:23.283034Z"
    }
   },
   "cell_type": "code",
   "source": [
    "torch.backends.cudnn.benchmark = True\n",
    "\n",
    "number_of_frames = 250\n",
    "discretization_size = 290\n",
    "d = (0.1, 0.3, 0.3)\n",
    "N = (number_of_frames, discretization_size, discretization_size)\n",
    "myu_size = (50, 10, 10)\n",
    "myu_mstd = (5.4, 0.6)\n",
    "\n",
    "# Initialize Simulation\n",
    "sim = Simulation(\n",
    "    d=d,\n",
    "    N=N,\n",
    "    myu_size=myu_size,\n",
    "    myu_mstd=myu_mstd\n",
    ")\n",
    "\n",
    "# Compute state and myu\n",
    "state, myu = sim.compute()\n",
    "\n",
    "state = np.abs(state).real\n",
    "state = state[:, np.newaxis, :, :]\n",
    "print(f\"State Shape: {state.shape}\")\n",
    "print(f\"Myu Shape: {myu.shape}\")"
   ],
   "id": "724ec54bae530ad6",
   "outputs": [
    {
     "name": "stderr",
     "output_type": "stream",
     "text": [
      "Computing States: 100%|██████████| 249/249 [00:02<00:00, 88.51it/s]"
     ]
    },
    {
     "name": "stdout",
     "output_type": "stream",
     "text": [
      "State Shape: (250, 1, 290, 290)\n",
      "Myu Shape: (250, 290, 290)\n"
     ]
    },
    {
     "name": "stderr",
     "output_type": "stream",
     "text": [
      "\n"
     ]
    }
   ],
   "execution_count": 2
  },
  {
   "metadata": {
    "ExecuteTime": {
     "end_time": "2025-01-11T22:27:39.061153800Z",
     "start_time": "2025-01-11T22:26:40.785592Z"
    }
   },
   "cell_type": "code",
   "source": [
    "from src.models.cnn import CNN\n",
    "from tqdm import tqdm\n",
    "\n",
    "device = torch.device(\"cuda\" if torch.cuda.is_available() else \"cpu\")\n",
    "print(f\"Using device: {device}\")\n",
    "\n",
    "class StateDatasetCNN(torch.utils.data.Dataset):\n",
    "    def __init__(self, state, myu):\n",
    "        self.inputs = torch.tensor(state, dtype=torch.float32)  # CNN input: [Batch, Channels, Height, Width]\n",
    "        self.outputs = torch.tensor(myu, dtype=torch.float32).unsqueeze(1)  # CNN output: Add channel dimension\n",
    "\n",
    "    def __len__(self):\n",
    "        return len(self.inputs)\n",
    "\n",
    "    def __getitem__(self, idx):\n",
    "        try:\n",
    "            input_data = self.inputs[idx]\n",
    "            target_data = self.outputs[idx]\n",
    "            assert input_data.shape == (1, 290, 290), f\"Input shape mismatch: {input_data.shape}\"\n",
    "            assert target_data.shape == (1, 290, 290), f\"Target shape mismatch: {target_data.shape}\"\n",
    "            return input_data, target_data\n",
    "        except Exception as e:\n",
    "            print(f\"Error in __getitem__ for index {idx}: {e}\")\n",
    "            raise\n",
    "\n",
    "\n",
    "dataset = StateDatasetCNN(state, myu)\n",
    "dataloader = DataLoader(\n",
    "    dataset,\n",
    "    batch_size=1024,\n",
    "    shuffle=True,\n",
    "    pin_memory=True,\n",
    "    num_workers=0\n",
    ")\n",
    "\n",
    "hidden_channels = [32, 64, 128, 256]\n",
    "model = CNN(input_channels=1, hidden_channels=hidden_channels).to(device)\n",
    "\n",
    "criterion = nn.MSELoss()\n",
    "optimizer = optim.AdamW(model.parameters(), lr=0.001)\n",
    "scaler = GradScaler(enabled=torch.cuda.is_available())\n",
    "\n",
    "from tqdm import tqdm\n",
    "\n",
    "# Training Loop\n",
    "epochs = 5\n",
    "gradient_accumulation_steps = 4  # Gradient accumulation to simulate larger batches\n",
    "for epoch in range(epochs):\n",
    "    model.train()\n",
    "    epoch_loss = 0\n",
    "\n",
    "    # Use tqdm for the progress bar\n",
    "    progress_bar = tqdm(dataloader, desc=f\"Epoch {epoch + 1}/{epochs}\", leave=True)\n",
    "\n",
    "    for step, (inputs, targets) in enumerate(progress_bar):\n",
    "        inputs, targets = inputs.to(device, non_blocking=True), targets.to(device, non_blocking=True)\n",
    "\n",
    "        optimizer.zero_grad()\n",
    "\n",
    "        # Mixed Precision Training\n",
    "        with autocast(enabled=True):  # Use updated API without 'args...'\n",
    "            predictions = model(inputs)\n",
    "            loss = criterion(predictions, targets) / gradient_accumulation_steps  # Normalize loss\n",
    "\n",
    "        scaler.scale(loss).backward()\n",
    "\n",
    "        # Update weights after accumulating gradients\n",
    "        if (step + 1) % gradient_accumulation_steps == 0 or (step + 1) == len(dataloader):\n",
    "            scaler.step(optimizer)\n",
    "            scaler.update()\n",
    "\n",
    "        # Update progress bar and total loss\n",
    "        epoch_loss += loss.item() * gradient_accumulation_steps\n",
    "        progress_bar.set_postfix({\"loss\": loss.item() * gradient_accumulation_steps})\n",
    "\n",
    "    print(f\"Epoch {epoch + 1}, Average Loss: {epoch_loss / len(dataloader):.6f}\")\n",
    "\n",
    "\n",
    "torch.save(model.state_dict(), \"../src/models/cnn_predictor.pth\")\n",
    "print(\"Training complete. Model saved to 'cnn_predictor.pth'\")"
   ],
   "id": "562b79db4ad4997",
   "outputs": [
    {
     "name": "stdout",
     "output_type": "stream",
     "text": [
      "Using device: cuda\n"
     ]
    },
    {
     "name": "stderr",
     "output_type": "stream",
     "text": [
      "C:\\Users\\meloy\\AppData\\Local\\Temp\\ipykernel_20144\\1351573408.py:41: FutureWarning: `torch.cuda.amp.GradScaler(args...)` is deprecated. Please use `torch.amp.GradScaler('cuda', args...)` instead.\n",
      "  scaler = GradScaler(enabled=torch.cuda.is_available())\n",
      "Epoch 1/5:   0%|          | 0/1 [00:00<?, ?it/s]C:\\Users\\meloy\\AppData\\Local\\Temp\\ipykernel_20144\\1351573408.py:61: FutureWarning: `torch.cuda.amp.autocast(args...)` is deprecated. Please use `torch.amp.autocast('cuda', args...)` instead.\n",
      "  with autocast(enabled=True):  # Use updated API without 'args...'\n"
     ]
    }
   ],
   "execution_count": null
  },
  {
   "metadata": {
    "ExecuteTime": {
     "end_time": "2025-01-11T22:30:00.342153Z",
     "start_time": "2025-01-11T22:29:57.445216Z"
    }
   },
   "cell_type": "code",
   "source": [
    "import torch\n",
    "import torch.nn as nn\n",
    "from torch.utils.data import DataLoader\n",
    "from torch.cuda.amp import GradScaler, autocast\n",
    "from tqdm import tqdm\n",
    "from src.models.cnn import CNN\n",
    "from src.simulation.simulation import Simulation\n",
    "import numpy as np\n",
    "\n",
    "# Device Setup\n",
    "device = torch.device(\"cuda\" if torch.cuda.is_available() else \"cpu\")\n",
    "print(f\"Using device: {device}\")\n",
    "\n",
    "# Simulation Parameters\n",
    "number_of_frames = 250\n",
    "discretization_size = 290\n",
    "d = (0.1, 0.3, 0.3)\n",
    "N = (number_of_frames, discretization_size, discretization_size)\n",
    "myu_size = (50, 10, 10)\n",
    "myu_mstd = (5.4, 0.6)\n",
    "\n",
    "# Simulation\n",
    "sim = Simulation(\n",
    "    d=d,\n",
    "    N=N,\n",
    "    myu_size=myu_size,\n",
    "    myu_mstd=myu_mstd\n",
    ")\n",
    "state, myu = sim.compute()\n",
    "\n",
    "# Preprocess State and Myu\n",
    "state = np.abs(state).real\n",
    "state = state[:, np.newaxis, :, :]  # Add channel dimension for CNN\n",
    "print(f\"State Shape: {state.shape}\")\n",
    "print(f\"Myu Shape: {myu.shape}\")\n",
    "\n",
    "\n",
    "# Dataset Class for CNN\n",
    "class StateDatasetCNN(torch.utils.data.Dataset):\n",
    "    def __init__(self, state, myu):\n",
    "        self.inputs = torch.tensor(state, dtype=torch.float32)  # CNN input: [Batch, Channels, Height, Width]\n",
    "        self.outputs = torch.tensor(myu, dtype=torch.float32).unsqueeze(1)  # CNN output: Add channel dimension\n",
    "\n",
    "    def __len__(self):\n",
    "        return len(self.inputs)\n",
    "\n",
    "    def __getitem__(self, idx):\n",
    "        return self.inputs[idx], self.outputs[idx]\n",
    "\n",
    "\n",
    "# Dataloader\n",
    "dataset = StateDatasetCNN(state, myu)\n",
    "dataloader = DataLoader(\n",
    "    dataset,\n",
    "    batch_size=1024,  # Reduce batch size if memory is a limitation\n",
    "    shuffle=True,\n",
    "    pin_memory=True,\n",
    "    num_workers=0\n",
    ")"
   ],
   "id": "54b78c0fbadd3480",
   "outputs": [
    {
     "name": "stdout",
     "output_type": "stream",
     "text": [
      "Using device: cuda\n"
     ]
    },
    {
     "name": "stderr",
     "output_type": "stream",
     "text": [
      "Computing States: 100%|██████████| 249/249 [00:02<00:00, 88.67it/s]"
     ]
    },
    {
     "name": "stdout",
     "output_type": "stream",
     "text": [
      "State Shape: (250, 1, 290, 290)\n",
      "Myu Shape: (250, 290, 290)\n"
     ]
    },
    {
     "name": "stderr",
     "output_type": "stream",
     "text": [
      "\n"
     ]
    }
   ],
   "execution_count": 5
  },
  {
   "metadata": {
    "jupyter": {
     "is_executing": true
    },
    "ExecuteTime": {
     "start_time": "2025-01-11T22:45:57.754447Z"
    }
   },
   "cell_type": "code",
   "source": [
    "hidden_channels = [32, 64, 128, 256]\n",
    "model = CNN(input_channels=1, hidden_channels=hidden_channels).to(device)\n",
    "\n",
    "criterion = nn.MSELoss()\n",
    "optimizer = optim.AdamW(model.parameters(), lr=0.001)\n",
    "scaler = GradScaler(enabled=torch.cuda.is_available())\n",
    "\n",
    "epochs = 1000\n",
    "gradient_accumulation_steps = 4\n",
    "for epoch in range(epochs):\n",
    "    model.train()\n",
    "    epoch_loss = 0\n",
    "\n",
    "    progress_bar = tqdm(dataloader, desc=f\"Epoch {epoch + 1}/{epochs}\", leave=True)\n",
    "\n",
    "    for step, (inputs, targets) in enumerate(progress_bar):\n",
    "        inputs, targets = inputs.to(device, non_blocking=True), targets.to(device, non_blocking=True)\n",
    "\n",
    "        optimizer.zero_grad()\n",
    "\n",
    "        with autocast(enabled=True):\n",
    "            predictions = model(inputs)\n",
    "            loss = criterion(predictions, targets) / gradient_accumulation_steps\n",
    "\n",
    "        scaler.scale(loss).backward()\n",
    "\n",
    "        if (step + 1) % gradient_accumulation_steps == 0 or (step + 1) == len(dataloader):\n",
    "            scaler.step(optimizer)\n",
    "            scaler.update()\n",
    "\n",
    "        epoch_loss += loss.item() * gradient_accumulation_steps\n",
    "        progress_bar.set_postfix({\"loss\": loss.item() * gradient_accumulation_steps})\n",
    "\n",
    "    print(f\"Epoch {epoch + 1}, Average Loss: {epoch_loss / len(dataloader):.6f}\")\n",
    "\n",
    "torch.save(model.state_dict(), \"../src/models/cnn_predictor.pth\")\n",
    "print(\"Training complete. Model saved to 'cnn_predictor.pth'\")"
   ],
   "id": "f8685552860b337",
   "outputs": [
    {
     "name": "stderr",
     "output_type": "stream",
     "text": [
      "C:\\Users\\meloy\\AppData\\Local\\Temp\\ipykernel_31280\\3111421077.py:6: FutureWarning: `torch.cuda.amp.GradScaler(args...)` is deprecated. Please use `torch.amp.GradScaler('cuda', args...)` instead.\n",
      "  scaler = GradScaler(enabled=torch.cuda.is_available())\n",
      "Epoch 1/1000:   0%|          | 0/1 [00:00<?, ?it/s]C:\\Users\\meloy\\AppData\\Local\\Temp\\ipykernel_31280\\3111421077.py:21: FutureWarning: `torch.cuda.amp.autocast(args...)` is deprecated. Please use `torch.amp.autocast('cuda', args...)` instead.\n",
      "  with autocast(enabled=True):\n",
      "Epoch 1/1000: 100%|██████████| 1/1 [00:09<00:00,  9.32s/it, loss=30.2]\n"
     ]
    },
    {
     "name": "stdout",
     "output_type": "stream",
     "text": [
      "Epoch 1, Average Loss: 30.166006\n"
     ]
    },
    {
     "name": "stderr",
     "output_type": "stream",
     "text": [
      "Epoch 2/1000: 100%|██████████| 1/1 [00:09<00:00,  9.05s/it, loss=30.2]\n"
     ]
    },
    {
     "name": "stdout",
     "output_type": "stream",
     "text": [
      "Epoch 2, Average Loss: 30.166012\n"
     ]
    },
    {
     "name": "stderr",
     "output_type": "stream",
     "text": [
      "Epoch 3/1000: 100%|██████████| 1/1 [00:09<00:00,  9.05s/it, loss=30.2]\n"
     ]
    },
    {
     "name": "stdout",
     "output_type": "stream",
     "text": [
      "Epoch 3, Average Loss: 30.166006\n"
     ]
    },
    {
     "name": "stderr",
     "output_type": "stream",
     "text": [
      "Epoch 4/1000: 100%|██████████| 1/1 [00:09<00:00,  9.05s/it, loss=4.91]\n"
     ]
    },
    {
     "name": "stdout",
     "output_type": "stream",
     "text": [
      "Epoch 4, Average Loss: 4.909602\n"
     ]
    },
    {
     "name": "stderr",
     "output_type": "stream",
     "text": [
      "Epoch 5/1000: 100%|██████████| 1/1 [00:09<00:00,  9.05s/it, loss=13.2]\n"
     ]
    },
    {
     "name": "stdout",
     "output_type": "stream",
     "text": [
      "Epoch 5, Average Loss: 13.195939\n"
     ]
    },
    {
     "name": "stderr",
     "output_type": "stream",
     "text": [
      "Epoch 6/1000: 100%|██████████| 1/1 [00:09<00:00,  9.03s/it, loss=1.3]\n"
     ]
    },
    {
     "name": "stdout",
     "output_type": "stream",
     "text": [
      "Epoch 6, Average Loss: 1.295866\n"
     ]
    },
    {
     "name": "stderr",
     "output_type": "stream",
     "text": [
      "Epoch 7/1000: 100%|██████████| 1/1 [00:09<00:00,  9.04s/it, loss=2.87]\n"
     ]
    },
    {
     "name": "stdout",
     "output_type": "stream",
     "text": [
      "Epoch 7, Average Loss: 2.871853\n"
     ]
    },
    {
     "name": "stderr",
     "output_type": "stream",
     "text": [
      "Epoch 8/1000: 100%|██████████| 1/1 [00:09<00:00,  9.02s/it, loss=3]\n"
     ]
    },
    {
     "name": "stdout",
     "output_type": "stream",
     "text": [
      "Epoch 8, Average Loss: 2.997410\n"
     ]
    },
    {
     "name": "stderr",
     "output_type": "stream",
     "text": [
      "Epoch 9/1000: 100%|██████████| 1/1 [00:09<00:00,  9.00s/it, loss=1.83]\n"
     ]
    },
    {
     "name": "stdout",
     "output_type": "stream",
     "text": [
      "Epoch 9, Average Loss: 1.833926\n"
     ]
    },
    {
     "name": "stderr",
     "output_type": "stream",
     "text": [
      "Epoch 10/1000: 100%|██████████| 1/1 [00:09<00:00,  9.04s/it, loss=1.11]\n"
     ]
    },
    {
     "name": "stdout",
     "output_type": "stream",
     "text": [
      "Epoch 10, Average Loss: 1.106431\n"
     ]
    },
    {
     "name": "stderr",
     "output_type": "stream",
     "text": [
      "Epoch 11/1000: 100%|██████████| 1/1 [00:09<00:00,  9.04s/it, loss=1.02]\n"
     ]
    },
    {
     "name": "stdout",
     "output_type": "stream",
     "text": [
      "Epoch 11, Average Loss: 1.018232\n"
     ]
    },
    {
     "name": "stderr",
     "output_type": "stream",
     "text": [
      "Epoch 12/1000: 100%|██████████| 1/1 [00:09<00:00,  9.02s/it, loss=1.32]\n"
     ]
    },
    {
     "name": "stdout",
     "output_type": "stream",
     "text": [
      "Epoch 12, Average Loss: 1.315976\n"
     ]
    },
    {
     "name": "stderr",
     "output_type": "stream",
     "text": [
      "Epoch 13/1000: 100%|██████████| 1/1 [00:09<00:00,  9.09s/it, loss=1.35]\n"
     ]
    },
    {
     "name": "stdout",
     "output_type": "stream",
     "text": [
      "Epoch 13, Average Loss: 1.349118\n"
     ]
    },
    {
     "name": "stderr",
     "output_type": "stream",
     "text": [
      "Epoch 14/1000: 100%|██████████| 1/1 [00:09<00:00,  9.08s/it, loss=1]\n"
     ]
    },
    {
     "name": "stdout",
     "output_type": "stream",
     "text": [
      "Epoch 14, Average Loss: 0.999657\n"
     ]
    },
    {
     "name": "stderr",
     "output_type": "stream",
     "text": [
      "Epoch 15/1000:   0%|          | 0/1 [00:00<?, ?it/s]"
     ]
    }
   ],
   "execution_count": null
  },
  {
   "metadata": {},
   "cell_type": "code",
   "outputs": [],
   "execution_count": null,
   "source": "",
   "id": "9c502f62ac4b514e"
  }
 ],
 "metadata": {
  "kernelspec": {
   "display_name": "Python 3",
   "language": "python",
   "name": "python3"
  },
  "language_info": {
   "codemirror_mode": {
    "name": "ipython",
    "version": 2
   },
   "file_extension": ".py",
   "mimetype": "text/x-python",
   "name": "python",
   "nbconvert_exporter": "python",
   "pygments_lexer": "ipython2",
   "version": "2.7.6"
  }
 },
 "nbformat": 4,
 "nbformat_minor": 5
}
