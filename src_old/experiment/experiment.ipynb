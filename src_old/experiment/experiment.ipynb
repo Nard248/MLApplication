{
 "cells": [
  {
   "cell_type": "code",
   "execution_count": 1,
   "metadata": {},
   "outputs": [],
   "source": [
    "import sys\n",
    "import os\n",
    "from pathlib import Path\n",
    "\n",
    "# Add parent directory temporarily to sys.path\n",
    "sys.path.insert(0, str(Path(os.getcwd()).resolve().parent))"
   ]
  },
  {
   "cell_type": "code",
   "execution_count": 2,
   "metadata": {},
   "outputs": [],
   "source": [
    "from __future__ import annotations\n",
    "\n",
    "import warnings\n",
    "from itertools import chain\n",
    "from collections import OrderedDict\n",
    "\n",
    "import numpy as np\n",
    "import matplotlib.pyplot as plt\n",
    "import torch\n",
    "import torch.nn as nn\n",
    "import torch.nn.functional as F\n",
    "import torch.nn.init as init\n",
    "import torch.optim as optim\n",
    "from tqdm import tqdm\n",
    "\n",
    "from lib.Simulation import Simulation\n",
    "from lib.Simulation_gpu import Simulation as Simulation_GPU\n",
    "from lib.Loader import Loader\n",
    "from lib.nn.helper import SaveLoad, BatchProcessing\n",
    "from lib.nn.nets import FCN, MShuffle\n",
    "from lib.nn.netsdd import LinearDD, SoftplusDD, FCNDD, MShuffleDD\n",
    "warnings.filterwarnings('ignore')\n",
    "\n",
    "device = torch.device(\"cuda:0\" if torch.cuda.is_available() else \"cpu\")\n",
    "\n",
    "path = \"experiment\""
   ]
  },
  {
   "cell_type": "code",
   "execution_count": 3,
   "metadata": {},
   "outputs": [],
   "source": [
    "np.random.seed(20)\n",
    "\n",
    "dt, dx, dy = (0.01, 0.01, 0.01)\n",
    "\n",
    "A = np.load(\"../../A.npy\")\n",
    "Nt, Nx, Ny = A.shape\n",
    "Lt, Lx, Ly = Nt*dt, Nx*dx, Ny*dy \n",
    "myu_size = (20, 6, 4)\n",
    "u = A"
   ]
  },
  {
   "cell_type": "code",
   "execution_count": 4,
   "metadata": {},
   "outputs": [],
   "source": [
    "import torch\n",
    "from lib.Loader import Loader\n",
    "\n",
    "class DatasetLoader(Loader):\n",
    "    def __init__(self, X, Y, T, A):\n",
    "        self.X = torch.tensor(X, dtype=torch.float32).view(-1).to(device)\n",
    "        self.Y = torch.tensor(Y, dtype=torch.float32).view(-1).to(device)\n",
    "        self.T = torch.tensor(T, dtype=torch.float32).view(-1).to(device)\n",
    "        self.XYT = torch.stack((self.X, self.Y, self.T), dim=1)\n",
    "        \n",
    "        A_real = torch.tensor(A.real, dtype=torch.float32).view(-1).to(device)\n",
    "        A_imag = torch.tensor(A.imag, dtype=torch.float32).view(-1).to(device)\n",
    "        self.A = torch.stack((A_real, A_imag), dim=1).to(device)\n",
    "        self._setmyu = False\n",
    "        \n",
    "    def set_myu(self, myu):\n",
    "        self._setmyu = True\n",
    "        self.myu = myu\n",
    "\n",
    "    def __len__(self):\n",
    "        return len(self.X)\n",
    "    \n",
    "    def __getitem__(self, slice):\n",
    "        if self._setmyu: return self.XYT[slice], self.A[slice], self.myu[slice]\n",
    "        return self.XYT[slice], self.A[slice]"
   ]
  },
  {
   "cell_type": "code",
   "execution_count": 5,
   "metadata": {},
   "outputs": [],
   "source": [
    "class DatasetLoaderDD(DatasetLoader):\n",
    "    def __getitem__(self, slice):\n",
    "        result = super().__getitem__(slice)\n",
    "        (xyt, *rest) = result\n",
    "        dxyt = torch.tensor([[0,0,1],[1,0,0],[0,1,0]], dtype = torch.float32).unsqueeze(1).repeat(1, self.batch_size, 1).to(device)\n",
    "        ddxyt = torch.tensor([[0,0,0],[0,0,0],[0,0,0]], dtype = torch.float32).unsqueeze(1).repeat(1, self.batch_size, 1).to(device)\n",
    "        return ((xyt,dxyt,ddxyt), *rest)"
   ]
  },
  {
   "cell_type": "code",
   "execution_count": 6,
   "metadata": {},
   "outputs": [],
   "source": [
    "x = np.linspace(-Lx, Lx, Nx).flatten()[:, None]/2\n",
    "y = np.linspace(-Ly, Ly, Ny).flatten()[:, None]/2\n",
    "t = np.linspace(0, Lt, Nt).flatten()[:, None]\n",
    "\n",
    "X, T, Y = np.meshgrid(x, t, y)\n",
    "dldd = DatasetLoaderDD(X,Y,T,A)"
   ]
  },
  {
   "cell_type": "code",
   "execution_count": 7,
   "metadata": {},
   "outputs": [],
   "source": [
    "class PCNNDD(nn.Module, SaveLoad, BatchProcessing):\n",
    "    def __init__(self, device = 'cpu'):\n",
    "        super(PCNNDD, self).__init__()\n",
    "        self.encoder = FCNDD(layers_list = [3,512]).to(device)\n",
    "        self.decoder = FCNDD(layers_list = [512,2]).to(device)\n",
    "        self.shuffler = MShuffleDD(exp_size = 9, n_depth = 4 ).to(device)\n",
    "        self.optimizer = torch.optim.Adam(params = chain(\n",
    "            self.encoder._Wtmx.parameters(),\n",
    "            self.shuffler._Wtmx.parameters(),\n",
    "            self.decoder._Wtmx.parameters(),\n",
    "            ), lr=0.01)\n",
    "        \n",
    "    def forward(self, x):\n",
    "        E = self.encoder.forward(x)\n",
    "        S = self.shuffler.forward(E)\n",
    "        return self.decoder.forward(S)"
   ]
  },
  {
   "cell_type": "code",
   "execution_count": 8,
   "metadata": {},
   "outputs": [],
   "source": [
    "class PINNDD(PCNNDD):\n",
    "    def __init__(self, *args, device = 'cpu', **kwargs):\n",
    "        super(PINNDD, self).__init__(*args, device = device, **kwargs)\n",
    "        self.device = device \n",
    "        mNt,mNx,mNy = myu_size\n",
    "        self.mshape = (Nt, mNx, mNy)\n",
    "        self.scale = (Nx//mNx, Ny//mNy)\n",
    "        self.myureset()\n",
    "    \n",
    "\n",
    "    def myureset(self):\n",
    "        myu = torch.abs(torch.randn(*self.mshape, dtype=torch.float32).to(self.device))\n",
    "        myu = nn.Parameter(myu)\n",
    "        self.myuparam = myu\n",
    "        \n",
    "    @property\n",
    "    def myu(self):\n",
    "        myu = F.interpolate(self.myuparam.unsqueeze(0), scale_factor=self.scale, mode='nearest').squeeze()\n",
    "        return myu\n",
    "    \n",
    "    def save_myu(self,filename):\n",
    "        myu = self.myuparam.cpu().detach().numpy()\n",
    "        np.save(filename, myu)\n",
    "        \n",
    "    def load_myu(self,filename):\n",
    "        myu = np.load(filename)\n",
    "        myuparam = torch.tensor(myu, dtype=torch.float32).to(self.device)\n",
    "        self.myuparam = nn.Parameter(myuparam)\n",
    "\n"
   ]
  },
  {
   "cell_type": "code",
   "execution_count": 9,
   "metadata": {},
   "outputs": [],
   "source": [
    "def fmse_mse_batch_train(self, dataloader, lr=0.01, verbose=1, device=\"cpu\"):\n",
    "    criterion = nn.MSELoss()\n",
    "    optimizer = optim.Adam(self.parameters(), lr=lr)\n",
    "    \n",
    "    all_losses = []\n",
    "\n",
    "    for inputs, outputs, myu in dataloader:\n",
    "        optimizer.zero_grad()\n",
    "\n",
    "        net_myu = myu.view(-1,1)\n",
    "        \n",
    "        u, (u_t, y_x, u_y), (u_tt, u_xx, u_yy) = self(inputs)\n",
    "        \n",
    "        loss = criterion(u, outputs)\n",
    "\n",
    "\n",
    "        f = u_t - u_xx - u_yy + torch.pow(torch.abs(u), 2).sum(dim=1, keepdim=True) * u  - u * net_myu\n",
    "        floss = torch.mean(f**2)\n",
    "\n",
    "        loss.backward()\n",
    "        optimizer.step()\n",
    "            \n",
    "\n",
    "        all_losses.append((loss.item(),floss.item()))\n",
    "    \n",
    "    return all_losses"
   ]
  },
  {
   "cell_type": "markdown",
   "metadata": {},
   "source": [
    "## Training the model and get approximate myus"
   ]
  },
  {
   "cell_type": "code",
   "execution_count": 10,
   "metadata": {},
   "outputs": [],
   "source": [
    "torch.manual_seed(1)\n",
    "net = PINNDD(device = device)\n",
    "net.device = device\n",
    "dldd.set(epochs = 20000, batch_size = 4000, shuffle=True, verbose = 2, device = device)"
   ]
  },
  {
   "cell_type": "code",
   "execution_count": 11,
   "metadata": {},
   "outputs": [],
   "source": [
    "M = net.myu.view(-1, 1)"
   ]
  },
  {
   "cell_type": "code",
   "execution_count": 12,
   "metadata": {},
   "outputs": [],
   "source": [
    "dldd.set_myu(M)"
   ]
  },
  {
   "cell_type": "code",
   "execution_count": 13,
   "metadata": {},
   "outputs": [
    {
     "data": {
      "text/plain": [
       "(torch.Size([62052480, 1]), torch.Size([62052480, 3]))"
      ]
     },
     "execution_count": 13,
     "metadata": {},
     "output_type": "execute_result"
    }
   ],
   "source": [
    "M.shape, dldd.XYT.shape"
   ]
  },
  {
   "cell_type": "code",
   "execution_count": 14,
   "metadata": {},
   "outputs": [
    {
     "name": "stderr",
     "output_type": "stream",
     "text": [
      " 78%|███████▊  | 15522/20000 [03:53<04:30, 16.55it/s]"
     ]
    },
    {
     "name": "stdout",
     "output_type": "stream",
     "text": [
      "Next full iteration over the entire dataset\n"
     ]
    },
    {
     "name": "stderr",
     "output_type": "stream",
     "text": [
      "100%|██████████| 20000/20000 [05:00<00:00, 66.59it/s]\n"
     ]
    }
   ],
   "source": [
    "lr = 1e-3\n",
    "L = fmse_mse_batch_train(net, dataloader = dldd, verbose = 1, device = device, lr = lr)\n"
   ]
  },
  {
   "cell_type": "code",
   "execution_count": 15,
   "metadata": {},
   "outputs": [
    {
     "data": {
      "image/png": "[encoded data removed]",
      "text/plain": [
       "<Figure size 640x480 with 1 Axes>"
      ]
     },
     "metadata": {},
     "output_type": "display_data"
    }
   ],
   "source": [
    "plt.plot(L, label = (\"NMSE\", \"FMSE(Network)\"))\n",
    "plt.legend()\n",
    "plt.yscale('log')\n",
    "plt.xlabel('epochs')\n",
    "plt.ylabel('Custom Loss')\n",
    "plt.title(f'Training of the PCNN \\n lr={lr}')\n",
    "plt.savefig(f'{path}_{lr}.png')"
   ]
  },
  {
   "cell_type": "code",
   "execution_count": 18,
   "metadata": {},
   "outputs": [
    {
     "name": "stderr",
     "output_type": "stream",
     "text": [
      " 78%|███████▊  | 15527/20000 [04:00<04:25, 16.85it/s]"
     ]
    },
    {
     "name": "stdout",
     "output_type": "stream",
     "text": [
      "Next full iteration over the entire dataset\n"
     ]
    },
    {
     "name": "stderr",
     "output_type": "stream",
     "text": [
      "100%|██████████| 20000/20000 [05:08<00:00, 64.90it/s]\n"
     ]
    }
   ],
   "source": [
    "lr = 3e-4\n",
    "L = fmse_mse_batch_train(net, dataloader = dldd, verbose = 1, device = device, lr = lr)"
   ]
  },
  {
   "cell_type": "code",
   "execution_count": 19,
   "metadata": {},
   "outputs": [
    {
     "data": {
      "image/png": "[encoded data removed]",
      "text/plain": [
       "<Figure size 640x480 with 1 Axes>"
      ]
     },
     "metadata": {},
     "output_type": "display_data"
    }
   ],
   "source": [
    "plt.plot(L, label = (\"NMSE\", \"FMSE(Network)\"))\n",
    "plt.legend()\n",
    "plt.yscale('log')\n",
    "plt.xlabel('epochs')\n",
    "plt.ylabel('Custom Loss')\n",
    "plt.title(f'Training of the PCNN \\n lr={lr}')\n",
    "plt.savefig(f'{path}_{lr}.png')"
   ]
  },
  {
   "cell_type": "code",
   "execution_count": 50,
   "metadata": {},
   "outputs": [
    {
     "name": "stdout",
     "output_type": "stream",
     "text": [
      "Model saved to experiment.pt\n"
     ]
    }
   ],
   "source": [
    "import os\n",
    "if not os.path.exists(f\"{path}.pt\"):\n",
    "    net.save_model(f\"{path}.pt\")"
   ]
  },
  {
   "cell_type": "markdown",
   "metadata": {},
   "source": [
    "## calculating myus"
   ]
  },
  {
   "cell_type": "code",
   "execution_count": 28,
   "metadata": {},
   "outputs": [],
   "source": [
    "import numpy as np\n",
    "\n",
    "def loader_predict(self, dataloader, complex = True):\n",
    "    All = {\n",
    "        'u': [],\n",
    "        'u_t': [],\n",
    "        'u_x': [],\n",
    "        'u_y': [],\n",
    "        'u_tt': [],\n",
    "        'u_xx': [],\n",
    "        'u_yy': [],\n",
    "        'net_myu': []\n",
    "    }\n",
    "\n",
    "    for inputs, outputs, myu in dataloader:\n",
    "        net_myu = myu.view(-1, 1)\n",
    "        \n",
    "        u, (u_t, u_x, u_y), (u_tt, u_xx, u_yy) = self(inputs)\n",
    "\n",
    "        All['u'].append(u.cpu().detach().numpy())\n",
    "        All['u_t'].append(u_t.cpu().detach().numpy())\n",
    "        All['u_x'].append(u_x.cpu().detach().numpy())\n",
    "        All['u_y'].append(u_y.cpu().detach().numpy())\n",
    "        All['u_tt'].append(u_tt.cpu().detach().numpy())\n",
    "        All['u_xx'].append(u_xx.cpu().detach().numpy())\n",
    "        All['u_yy'].append(u_yy.cpu().detach().numpy())\n",
    "        All['net_myu'].append(net_myu.cpu().detach().numpy())\n",
    "    \n",
    "    # Convert lists to numpy arrays\n",
    "    All = {key: np.concatenate(value, axis=0) for key, value in All.items()}\n",
    "\n",
    "    if complex:\n",
    "        # Convert to complex numbers after converting to numpy arrays\n",
    "        All['u'] = All['u'][:, 0] + All['u'][:, 1] * 1j\n",
    "        All['u_t'] = All['u_t'][:, 0] + All['u_t'][:, 1] * 1j\n",
    "        All['u_x'] = All['u_x'][:, 0] + All['u_x'][:, 1] * 1j\n",
    "        All['u_y'] = All['u_y'][:, 0] + All['u_y'][:, 1] * 1j\n",
    "        All['u_tt'] = All['u_tt'][:, 0] + All['u_tt'][:, 1] * 1j\n",
    "        All['u_xx'] = All['u_xx'][:, 0] + All['u_xx'][:, 1] * 1j\n",
    "        All['u_yy'] = All['u_yy'][:, 0] + All['u_yy'][:, 1] * 1j\n",
    "    \n",
    "    return (All['u'],(All['u_t'], All['u_x'], All['u_y']),(All['u_tt'], All['u_xx'], All['u_yy']),(All['net_myu']))\n"
   ]
  },
  {
   "cell_type": "code",
   "execution_count": 45,
   "metadata": {},
   "outputs": [],
   "source": [
    "batch_size = 8640\n",
    "dldd.set(epochs = len(dldd)//batch_size, batch_size=batch_size,shuffle=False, verbose=1)\n"
   ]
  },
  {
   "cell_type": "code",
   "execution_count": 46,
   "metadata": {},
   "outputs": [
    {
     "name": "stderr",
     "output_type": "stream",
     "text": [
      "100%|██████████| 3591/3591 [02:35<00:00, 23.05it/s]\n"
     ]
    }
   ],
   "source": [
    "u, (u_t, u_x, u_y), (u_tt, u_xx, u_yy), (net_myu) = loader_predict(net,dldd)\n"
   ]
  },
  {
   "cell_type": "code",
   "execution_count": 47,
   "metadata": {},
   "outputs": [],
   "source": [
    "u, u_t, u_x, u_y, u_tt, u_xx, u_yy, net_myu = u.reshape(A.shape), u_t.reshape(A.shape), u_x.reshape(A.shape), u_y.reshape(A.shape), u_tt.reshape(A.shape), u_xx.reshape(A.shape), u_yy.reshape(A.shape), net_myu.reshape(A.shape)\n"
   ]
  },
  {
   "cell_type": "code",
   "execution_count": 48,
   "metadata": {},
   "outputs": [
    {
     "name": "stderr",
     "output_type": "stream",
     "text": [
      "100%|██████████| 40/40 [00:30<00:00,  1.29it/s]\n",
      "100%|██████████| 40/40 [00:30<00:00,  1.32it/s]\n",
      "100%|██████████| 40/40 [00:30<00:00,  1.31it/s]\n",
      "100%|██████████| 40/40 [00:30<00:00,  1.32it/s]\n",
      "100%|██████████| 40/40 [00:30<00:00,  1.33it/s]\n"
     ]
    },
    {
     "data": {
      "image/png": "[encoded data removed]",
      "text/plain": [
       "<Figure size 640x480 with 1 Axes>"
      ]
     },
     "metadata": {},
     "output_type": "display_data"
    }
   ],
   "source": [
    "i=0\n",
    "L = []\n",
    "pref = u_t - u_xx - u_yy + (np.abs(u)**2) * u\n",
    "pref = torch.tensor(pref).to(device)\n",
    "U = torch.tensor(u).to(device)\n",
    "\n",
    "for lr in [10,1,0.1,0.01,0.001]:\n",
    "    \n",
    "    myuoptimizer = torch.optim.Adam( params = [net.myuparam], lr=lr ) \n",
    "    myuoptimizer.zero_grad()\n",
    "\n",
    "    FL = []\n",
    "    for _ in tqdm(range(40)):\n",
    "\n",
    "        f =  pref - U *  net.myu\n",
    "        FMSE = (torch.abs(f)**2).mean()\n",
    "        FMSE.backward(retain_graph=True)\n",
    "        FL.append(FMSE.cpu().detach().numpy())\n",
    "        myuoptimizer.step()\n",
    "        myuoptimizer.zero_grad()\n",
    "         \n",
    "    plt.plot(range(i,i+len(FL)), FL, label=f'lr={lr}')\n",
    "    i+=len(FL)-1\n",
    "\n",
    "plt.yscale('log')\n",
    "plt.legend()\n",
    "plt.xlabel('epochs')\n",
    "plt.ylabel('FMSE')\n",
    "plt.title('MYU Training')\n",
    "plt.tight_layout()\n",
    "plt.savefig(f'{path}_myutraining.png')\n",
    "plt.show()"
   ]
  },
  {
   "cell_type": "code",
   "execution_count": 49,
   "metadata": {},
   "outputs": [
    {
     "data": {
      "text/plain": [
       "tensor([[[ 95.5465,  95.5465,  95.5465,  ...,  36.7157,  36.7157,  36.7157],\n",
       "         [ 95.5465,  95.5465,  95.5465,  ...,  36.7157,  36.7157,  36.7157],\n",
       "         [ 95.5465,  95.5465,  95.5465,  ...,  36.7157,  36.7157,  36.7157],\n",
       "         ...,\n",
       "         [ 98.4082,  98.4082,  98.4082,  ...,  38.1660,  38.1660,  38.1660],\n",
       "         [ 98.4082,  98.4082,  98.4082,  ...,  38.1660,  38.1660,  38.1660],\n",
       "         [ 98.4082,  98.4082,  98.4082,  ...,  38.1660,  38.1660,  38.1660]],\n",
       "\n",
       "        [[100.8228, 100.8228, 100.8228,  ...,  35.4241,  35.4241,  35.4241],\n",
       "         [100.8228, 100.8228, 100.8228,  ...,  35.4241,  35.4241,  35.4241],\n",
       "         [100.8228, 100.8228, 100.8228,  ...,  35.4241,  35.4241,  35.4241],\n",
       "         ...,\n",
       "         [ 99.2428,  99.2428,  99.2428,  ...,  40.9956,  40.9956,  40.9956],\n",
       "         [ 99.2428,  99.2428,  99.2428,  ...,  40.9956,  40.9956,  40.9956],\n",
       "         [ 99.2428,  99.2428,  99.2428,  ...,  40.9956,  40.9956,  40.9956]],\n",
       "\n",
       "        [[106.0692, 106.0692, 106.0692,  ...,  35.8581,  35.8581,  35.8581],\n",
       "         [106.0692, 106.0692, 106.0692,  ...,  35.8581,  35.8581,  35.8581],\n",
       "         [106.0692, 106.0692, 106.0692,  ...,  35.8581,  35.8581,  35.8581],\n",
       "         ...,\n",
       "         [100.3330, 100.3330, 100.3330,  ...,  44.6365,  44.6365,  44.6365],\n",
       "         [100.3330, 100.3330, 100.3330,  ...,  44.6365,  44.6365,  44.6365],\n",
       "         [100.3330, 100.3330, 100.3330,  ...,  44.6365,  44.6365,  44.6365]],\n",
       "\n",
       "        ...,\n",
       "\n",
       "        [[334.7552, 334.7552, 334.7552,  ..., 376.1047, 376.1047, 376.1047],\n",
       "         [334.7552, 334.7552, 334.7552,  ..., 376.1047, 376.1047, 376.1047],\n",
       "         [334.7552, 334.7552, 334.7552,  ..., 376.1047, 376.1047, 376.1047],\n",
       "         ...,\n",
       "         [131.7374, 131.7374, 131.7374,  ..., 118.6331, 118.6331, 118.6331],\n",
       "         [131.7374, 131.7374, 131.7374,  ..., 118.6331, 118.6331, 118.6331],\n",
       "         [131.7374, 131.7374, 131.7374,  ..., 118.6331, 118.6331, 118.6331]],\n",
       "\n",
       "        [[330.7097, 330.7097, 330.7097,  ..., 374.6194, 374.6194, 374.6194],\n",
       "         [330.7097, 330.7097, 330.7097,  ..., 374.6194, 374.6194, 374.6194],\n",
       "         [330.7097, 330.7097, 330.7097,  ..., 374.6194, 374.6194, 374.6194],\n",
       "         ...,\n",
       "         [127.3998, 127.3998, 127.3998,  ..., 121.0428, 121.0428, 121.0428],\n",
       "         [127.3998, 127.3998, 127.3998,  ..., 121.0428, 121.0428, 121.0428],\n",
       "         [127.3998, 127.3998, 127.3998,  ..., 121.0428, 121.0428, 121.0428]],\n",
       "\n",
       "        [[327.0465, 327.0465, 327.0465,  ..., 372.1355, 372.1355, 372.1355],\n",
       "         [327.0465, 327.0465, 327.0465,  ..., 372.1355, 372.1355, 372.1355],\n",
       "         [327.0465, 327.0465, 327.0465,  ..., 372.1355, 372.1355, 372.1355],\n",
       "         ...,\n",
       "         [123.8852, 123.8852, 123.8852,  ..., 124.0019, 124.0019, 124.0019],\n",
       "         [123.8852, 123.8852, 123.8852,  ..., 124.0019, 124.0019, 124.0019],\n",
       "         [123.8852, 123.8852, 123.8852,  ..., 124.0019, 124.0019, 124.0019]]],\n",
       "       device='cuda:0', grad_fn=<SqueezeBackward0>)"
      ]
     },
     "execution_count": 49,
     "metadata": {},
     "output_type": "execute_result"
    }
   ],
   "source": [
    "net.myu"
   ]
  },
  {
   "cell_type": "markdown",
   "metadata": {},
   "source": [
    "## FMSE Full Train"
   ]
  },
  {
   "cell_type": "code",
   "execution_count": null,
   "metadata": {},
   "outputs": [],
   "source": [
    "import os\n",
    "if os.path.exists(f\"{path}.pt\"):\n",
    "    net.load_model(f\"{path}.pt\")"
   ]
  },
  {
   "cell_type": "markdown",
   "metadata": {},
   "source": [
    "## Visualizing and saving plot gifs"
   ]
  },
  {
   "cell_type": "code",
   "execution_count": 55,
   "metadata": {},
   "outputs": [],
   "source": [
    "class PCNN(nn.Module, SaveLoad, BatchProcessing):\n",
    "    def __init__(self, device = 'cpu'):\n",
    "        super(PCNN, self).__init__()\n",
    "        self.encoder = FCN(layers_list = [3,512]).to(device)\n",
    "        self.decoder = FCN(layers_list = [512,2]).to(device)\n",
    "        self.shuffler = MShuffle(exp_size = 9, n_depth = 4 ).to(device)\n",
    "        self.optimizer = torch.optim.Adam(params = chain(\n",
    "            self.encoder._Wtmx.parameters(),\n",
    "            self.shuffler._Wtmx.parameters(),\n",
    "            self.decoder._Wtmx.parameters(),\n",
    "            ), lr=0.01)\n",
    "        \n",
    "    def forward(self, x):\n",
    "        E = self.encoder.forward(x)\n",
    "        S = self.shuffler.forward(E)\n",
    "        return self.decoder.forward(S)"
   ]
  },
  {
   "cell_type": "code",
   "execution_count": 58,
   "metadata": {},
   "outputs": [
    {
     "data": {
      "text/plain": [
       "<All keys matched successfully>"
      ]
     },
     "execution_count": 58,
     "metadata": {},
     "output_type": "execute_result"
    }
   ],
   "source": [
    "lightnet = PCNN().to(device)\n",
    "sd = net.state_dict()\n",
    "del sd['myuparam']\n",
    "lightnet.load_state_dict(sd)"
   ]
  },
  {
   "cell_type": "code",
   "execution_count": 60,
   "metadata": {},
   "outputs": [],
   "source": [
    "module_sq = lambda a: np.real(a)**2 + np.imag(a)**2\n",
    "phase = lambda a: np.arcsin(np.real(a)/np.sqrt(np.real(a)**2+np.imag(a)**2))\n",
    "real_imag = lambda a: np.real(a)*np.imag(a)\n",
    "real = lambda a: np.real(a)\n",
    "imag = lambda a: np.imag(a)\n",
    "\n",
    "funlist_name = [\"module_sq\", \"phase\",\"real_imag\",\"real\",\"imag\"]\n",
    "funlist = [module_sq, phase, real_imag, real, imag]\n",
    "\n",
    "myupred = net.myu.cpu().detach().numpy()\n",
    "A = A\n",
    "A_pred = lightnet.batch_predict(dldd.XYT,verbose = 1).reshape(A.shape)"
   ]
  },
  {
   "cell_type": "code",
   "execution_count": 61,
   "metadata": {},
   "outputs": [],
   "source": [
    "ATenzor = np.array([np.stack([\n",
    "                    np.stack([fun(A) for fun in funlist]),\n",
    "                    np.stack([fun(Ap) for fun in funlist])\n",
    "                    ]) for A, Ap in zip(A, A_pred)])\n",
    "                    "
   ]
  },
  {
   "cell_type": "code",
   "execution_count": 62,
   "metadata": {},
   "outputs": [],
   "source": [
    "MTenzor = np.array([np.array([m,mp]) for m, mp in zip(myupred,myupred)])"
   ]
  },
  {
   "cell_type": "code",
   "execution_count": 63,
   "metadata": {},
   "outputs": [],
   "source": [
    "AMTenzor = np.concatenate((MTenzor[:, :, np.newaxis, :, :], ATenzor), axis=2)"
   ]
  },
  {
   "cell_type": "code",
   "execution_count": 68,
   "metadata": {},
   "outputs": [
    {
     "name": "stdout",
     "output_type": "stream",
     "text": [
      "Video successfully saved at experiment.mp4\n"
     ]
    }
   ],
   "source": [
    "from lib.Video import create_video\n",
    "create_video(AMTenzor[::2], titles=[['myu'] + funlist_name] * 2, videotitle = f'{path}.mp4')"
   ]
  },
  {
   "cell_type": "code",
   "execution_count": null,
   "metadata": {},
   "outputs": [],
   "source": []
  }
 ],
 "metadata": {
  "kernelspec": {
   "display_name": "base",
   "language": "python",
   "name": "python3"
  },
  "language_info": {
   "codemirror_mode": {
    "name": "ipython",
    "version": 3
   },
   "file_extension": ".py",
   "mimetype": "text/x-python",
   "name": "python",
   "nbconvert_exporter": "python",
   "pygments_lexer": "ipython3",
   "version": "3.11.5"
  }
 },
 "nbformat": 4,
 "nbformat_minor": 2
}
