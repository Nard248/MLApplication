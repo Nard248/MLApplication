{
 "cells": [
  {
   "cell_type": "code",
   "execution_count": 1,
   "metadata": {},
   "outputs": [],
   "source": [
    "import sys\n",
    "import os\n",
    "from pathlib import Path\n",
    "\n",
    "# Add parent directory temporarily to sys.path\n",
    "sys.path.insert(0, str(Path(os.getcwd()).resolve().parent))"
   ]
  },
  {
   "cell_type": "code",
   "execution_count": 2,
   "metadata": {},
   "outputs": [
    {
     "ename": "KeyboardInterrupt",
     "evalue": "",
     "output_type": "error",
     "traceback": [
      "\u001b[1;31m---------------------------------------------------------------------------\u001b[0m",
      "\u001b[1;31mKeyboardInterrupt\u001b[0m                         Traceback (most recent call last)",
      "Cell \u001b[1;32mIn[2], line 9\u001b[0m\n\u001b[0;32m      7\u001b[0m \u001b[38;5;28;01mimport\u001b[39;00m \u001b[38;5;21;01mnumpy\u001b[39;00m \u001b[38;5;28;01mas\u001b[39;00m \u001b[38;5;21;01mnp\u001b[39;00m\n\u001b[0;32m      8\u001b[0m \u001b[38;5;28;01mimport\u001b[39;00m \u001b[38;5;21;01mmatplotlib\u001b[39;00m\u001b[38;5;21;01m.\u001b[39;00m\u001b[38;5;21;01mpyplot\u001b[39;00m \u001b[38;5;28;01mas\u001b[39;00m \u001b[38;5;21;01mplt\u001b[39;00m\n\u001b[1;32m----> 9\u001b[0m \u001b[38;5;28;01mimport\u001b[39;00m \u001b[38;5;21;01mtorch\u001b[39;00m\n\u001b[0;32m     10\u001b[0m \u001b[38;5;28;01mimport\u001b[39;00m \u001b[38;5;21;01mtorch\u001b[39;00m\u001b[38;5;21;01m.\u001b[39;00m\u001b[38;5;21;01mnn\u001b[39;00m \u001b[38;5;28;01mas\u001b[39;00m \u001b[38;5;21;01mnn\u001b[39;00m\n\u001b[0;32m     11\u001b[0m \u001b[38;5;28;01mimport\u001b[39;00m \u001b[38;5;21;01mtorch\u001b[39;00m\u001b[38;5;21;01m.\u001b[39;00m\u001b[38;5;21;01mnn\u001b[39;00m\u001b[38;5;21;01m.\u001b[39;00m\u001b[38;5;21;01mfunctional\u001b[39;00m \u001b[38;5;28;01mas\u001b[39;00m \u001b[38;5;21;01mF\u001b[39;00m\n",
      "File \u001b[1;32mc:\\Users\\yeran\\anaconda3\\Lib\\site-packages\\torch\\__init__.py:123\u001b[0m\n\u001b[0;32m    121\u001b[0m is_loaded \u001b[38;5;241m=\u001b[39m \u001b[38;5;28;01mFalse\u001b[39;00m\n\u001b[0;32m    122\u001b[0m \u001b[38;5;28;01mif\u001b[39;00m with_load_library_flags:\n\u001b[1;32m--> 123\u001b[0m     res \u001b[38;5;241m=\u001b[39m kernel32\u001b[38;5;241m.\u001b[39mLoadLibraryExW(dll, \u001b[38;5;28;01mNone\u001b[39;00m, \u001b[38;5;241m0x00001100\u001b[39m)\n\u001b[0;32m    124\u001b[0m     last_error \u001b[38;5;241m=\u001b[39m ctypes\u001b[38;5;241m.\u001b[39mget_last_error()\n\u001b[0;32m    125\u001b[0m     \u001b[38;5;28;01mif\u001b[39;00m res \u001b[38;5;129;01mis\u001b[39;00m \u001b[38;5;28;01mNone\u001b[39;00m \u001b[38;5;129;01mand\u001b[39;00m last_error \u001b[38;5;241m!=\u001b[39m \u001b[38;5;241m126\u001b[39m:\n",
      "\u001b[1;31mKeyboardInterrupt\u001b[0m: "
     ]
    }
   ],
   "source": [
    "from __future__ import annotations\n",
    "\n",
    "import warnings\n",
    "from itertools import chain\n",
    "from collections import OrderedDict\n",
    "\n",
    "import numpy as np\n",
    "import matplotlib.pyplot as plt\n",
    "import torch\n",
    "import torch.nn as nn\n",
    "import torch.nn.functional as F\n",
    "import torch.nn.init as init\n",
    "import torch.optim as optim\n",
    "from tqdm import tqdm\n",
    "\n",
    "from lib.Simulation import Simulation\n",
    "from lib.Simulation_gpu import Simulation as Simulation_GPU\n",
    "from lib.Loader import Loader\n",
    "from lib.nn.helper import SaveLoad, BatchProcessing\n",
    "from lib.nn.nets import FCN, MShuffle\n",
    "from lib.nn.netsdd import LinearDD, SoftplusDD, FCNDD, MShuffleDD\n",
    "warnings.filterwarnings('ignore')\n",
    "\n",
    "device = torch.device(\"cuda:0\" if torch.cuda.is_available() else \"cpu\")\n",
    "\n",
    "path = \"main\""
   ]
  },
  {
   "cell_type": "code",
   "execution_count": null,
   "metadata": {},
   "outputs": [],
   "source": [
    "np.random.seed(20)\n",
    "\n",
    "dt, dx, dy = (0.03, 90 / 600, 90 / 600)\n",
    "Nt, Nx, Ny = (200, 600, 600)\n",
    "St, Sx, Sy = (100,1,1)\n",
    "Lt, Lx, Ly = Nt*dt, Nx*dx, Ny*dy \n",
    "myu_size = (5, 8, 8)\n",
    "S = Simulation_GPU(\n",
    "        d = (dt, dx, dy),\n",
    "        N = (Nt, Nx, Ny),\n",
    "        s = (St, Sx, Sy),\n",
    "        myu_size = myu_size,\n",
    "        myu_mstd = (5.4, 0.8)\n",
    ")\n",
    "A, myu = S.compute()\n",
    "S.check_properties(A,myu)\n",
    "u = A"
   ]
  },
  {
   "cell_type": "code",
   "execution_count": null,
   "metadata": {},
   "outputs": [],
   "source": [
    "import torch\n",
    "from lib.Loader import Loader\n",
    "\n",
    "class DatasetLoader(Loader):\n",
    "    def __init__(self, X, Y, T, A):\n",
    "        self.X = torch.tensor(X, dtype=torch.float32).view(-1).to(device)\n",
    "        self.Y = torch.tensor(Y, dtype=torch.float32).view(-1).to(device)\n",
    "        self.T = torch.tensor(T, dtype=torch.float32).view(-1).to(device)\n",
    "        self.XYT = torch.stack((self.X, self.Y, self.T), dim=1)\n",
    "        \n",
    "        A_real = torch.tensor(A.real, dtype=torch.float32).view(-1).to(device)\n",
    "        A_imag = torch.tensor(A.imag, dtype=torch.float32).view(-1).to(device)\n",
    "        self.A = torch.stack((A_real, A_imag), dim=1).to(device)\n",
    "        self._setmyu = False\n",
    "        \n",
    "    def set_myu(self, myu):\n",
    "        self._setmyu = True\n",
    "        self.myu = myu\n",
    "\n",
    "    def __len__(self):\n",
    "        return len(self.X)\n",
    "    \n",
    "    def __getitem__(self, slice):\n",
    "        if self._setmyu: return self.XYT[slice], self.A[slice], self.myu[slice]\n",
    "        return self.XYT[slice], self.A[slice]"
   ]
  },
  {
   "cell_type": "code",
   "execution_count": null,
   "metadata": {},
   "outputs": [],
   "source": [
    "class DatasetLoaderDD(DatasetLoader):\n",
    "    def __getitem__(self, slice):\n",
    "        result = super().__getitem__(slice)\n",
    "        (xyt, *rest) = result\n",
    "        dxyt = torch.tensor([[0,0,1],[1,0,0],[0,1,0]], dtype = torch.float32).unsqueeze(1).repeat(1, self.batch_size, 1).to(device)\n",
    "        ddxyt = torch.tensor([[0,0,0],[0,0,0],[0,0,0]], dtype = torch.float32).unsqueeze(1).repeat(1, self.batch_size, 1).to(device)\n",
    "        return ((xyt,dxyt,ddxyt), *rest)"
   ]
  },
  {
   "cell_type": "code",
   "execution_count": null,
   "metadata": {},
   "outputs": [],
   "source": [
    "x = np.linspace(-Lx, Lx, Nx).flatten()[:, None]/2\n",
    "y = np.linspace(-Ly, Ly, Ny).flatten()[:, None]/2\n",
    "t = np.linspace(0, Lt, Nt).flatten()[:, None]\n",
    "\n",
    "X, T, Y = np.meshgrid(x, t, y)\n",
    "dldd = DatasetLoaderDD(X,Y,T,A)"
   ]
  },
  {
   "cell_type": "code",
   "execution_count": null,
   "metadata": {},
   "outputs": [],
   "source": [
    "class PCNNDD(nn.Module, SaveLoad, BatchProcessing):\n",
    "    def __init__(self, device = 'cpu'):\n",
    "        super(PCNNDD, self).__init__()\n",
    "        self.encoder = FCNDD(layers_list = [3,512]).to(device)\n",
    "        self.decoder = FCNDD(layers_list = [512,2]).to(device)\n",
    "        self.shuffler = MShuffleDD(exp_size = 9, n_depth = 4 ).to(device)\n",
    "        self.optimizer = torch.optim.Adam(params = chain(\n",
    "            self.encoder._Wtmx.parameters(),\n",
    "            self.shuffler._Wtmx.parameters(),\n",
    "            self.decoder._Wtmx.parameters(),\n",
    "            ), lr=0.01)\n",
    "        \n",
    "    def forward(self, x):\n",
    "        E = self.encoder.forward(x)\n",
    "        S = self.shuffler.forward(E)\n",
    "        return self.decoder.forward(S)"
   ]
  },
  {
   "cell_type": "code",
   "execution_count": null,
   "metadata": {},
   "outputs": [],
   "source": [
    "class PINNDD(PCNNDD):\n",
    "    def __init__(self, *args, device = 'cpu', **kwargs):\n",
    "        super(PINNDD, self).__init__(*args, device = device, **kwargs)\n",
    "        self.device = device \n",
    "        mNt,mNx,mNy = myu_size\n",
    "        self.mshape = (Nt, mNx, mNy)\n",
    "        self.scale = Nx//mNx\n",
    "        self.myureset()\n",
    "    \n",
    "\n",
    "    def myureset(self):\n",
    "        myu = torch.abs(torch.randn(*self.mshape, dtype=torch.float32).to(self.device))\n",
    "        myu = nn.Parameter(myu)\n",
    "        self.myuparam = myu\n",
    "        \n",
    "    @property\n",
    "    def myu(self):\n",
    "        myu = F.interpolate(self.myuparam.unsqueeze(0), scale_factor=self.scale, mode='nearest').squeeze()\n",
    "        return myu\n",
    "    \n",
    "    def save_myu(self,filename):\n",
    "        myu = self.myuparam.cpu().detach().numpy()\n",
    "        np.save(filename, myu)\n",
    "        \n",
    "    def load_myu(self,filename):\n",
    "        myu = np.load(filename)\n",
    "        myuparam = torch.tensor(myu, dtype=torch.float32).to(self.device)\n",
    "        self.myuparam = nn.Parameter(myuparam)\n",
    "\n"
   ]
  },
  {
   "cell_type": "markdown",
   "metadata": {},
   "source": [
    "## Training the model\n"
   ]
  },
  {
   "cell_type": "code",
   "execution_count": null,
   "metadata": {},
   "outputs": [],
   "source": [
    "def fmse_mse_batch_train(self, dataloader, lr=0.01, verbose=1, device=\"cpu\"):\n",
    "    criterion = nn.MSELoss()\n",
    "    optimizer = optim.Adam(self.parameters(), lr=lr)\n",
    "    \n",
    "    all_losses = []\n",
    "\n",
    "    for inputs, outputs, myu in dataloader:\n",
    "        optimizer.zero_grad()\n",
    "\n",
    "        net_myu, real_myu = myu.T\n",
    "        net_myu, real_myu = net_myu.view(-1,1), real_myu.view(-1,1)\n",
    "        \n",
    "        u, (u_t, y_x, u_y), (u_tt, u_xx, u_yy) = self(inputs)\n",
    "        \n",
    "        loss = criterion(u, outputs)\n",
    "\n",
    "\n",
    "        pref =  u_t - u_xx - u_yy + torch.pow(torch.abs(u), 2).sum(dim=1, keepdim=True) * u \n",
    "        netf = pref - u * net_myu\n",
    "        realf = pref - u * real_myu\n",
    "        netfloss = torch.mean(netf**2)\n",
    "        realfloss = torch.mean(realf**2)\n",
    "\n",
    "        loss.backward()\n",
    "        optimizer.step()\n",
    "            \n",
    "\n",
    "        all_losses.append((loss.item(),netfloss.item(),realfloss.item()))\n",
    "    \n",
    "    return all_losses"
   ]
  },
  {
   "cell_type": "code",
   "execution_count": null,
   "metadata": {},
   "outputs": [],
   "source": [
    "torch.manual_seed(1)\n",
    "net = PINNDD(device = device)\n",
    "net.device = device\n",
    "dldd.set(epochs = 20000, batch_size = 4000, shuffle=True, verbose = 2, device = device)"
   ]
  },
  {
   "cell_type": "code",
   "execution_count": null,
   "metadata": {},
   "outputs": [],
   "source": [
    "M = torch.stack((\n",
    "net.myu.view(-1),\n",
    "torch.tensor(myu).view(-1).to(device)))"
   ]
  },
  {
   "cell_type": "code",
   "execution_count": null,
   "metadata": {},
   "outputs": [],
   "source": [
    "dldd.set_myu(M.T)"
   ]
  },
  {
   "cell_type": "code",
   "execution_count": null,
   "metadata": {},
   "outputs": [],
   "source": [
    "lr = 1e-3\n",
    "L = fmse_mse_batch_train(net, dataloader = dldd, verbose = 1, device = device, lr = lr)\n"
   ]
  },
  {
   "cell_type": "code",
   "execution_count": null,
   "metadata": {},
   "outputs": [],
   "source": [
    "plt.plot(L, label = (\"NMSE\", \"FMSE(Network)\", \"FMSE(Real)\"))\n",
    "plt.legend()\n",
    "plt.yscale('log')\n",
    "plt.xlabel('epochs')\n",
    "plt.ylabel('Custom Loss')\n",
    "plt.title(f'Training of the PCNN \\n lr={lr}')\n",
    "plt.savefig(f'{path}_{lr}.png')"
   ]
  },
  {
   "cell_type": "markdown",
   "metadata": {},
   "source": [
    "## Get the myus"
   ]
  },
  {
   "cell_type": "code",
   "execution_count": null,
   "metadata": {},
   "outputs": [],
   "source": [
    "import numpy as np\n",
    "\n",
    "def loader_predict(self, dataloader, complex = True):\n",
    "    All = {\n",
    "        'u': [],\n",
    "        'u_t': [],\n",
    "        'u_x': [],\n",
    "        'u_y': [],\n",
    "        'u_tt': [],\n",
    "        'u_xx': [],\n",
    "        'u_yy': [],\n",
    "        'net_myu': [],\n",
    "        'real_myu': []\n",
    "    }\n",
    "\n",
    "    for inputs, outputs, myu in dataloader:\n",
    "        net_myu, real_myu = myu.T\n",
    "        net_myu, real_myu = net_myu.view(-1, 1), real_myu.view(-1, 1)\n",
    "        \n",
    "        u, (u_t, u_x, u_y), (u_tt, u_xx, u_yy) = self(inputs)\n",
    "\n",
    "        All['u'].append(u.cpu().detach().numpy())\n",
    "        All['u_t'].append(u_t.cpu().detach().numpy())\n",
    "        All['u_x'].append(u_x.cpu().detach().numpy())\n",
    "        All['u_y'].append(u_y.cpu().detach().numpy())\n",
    "        All['u_tt'].append(u_tt.cpu().detach().numpy())\n",
    "        All['u_xx'].append(u_xx.cpu().detach().numpy())\n",
    "        All['u_yy'].append(u_yy.cpu().detach().numpy())\n",
    "        All['net_myu'].append(net_myu.cpu().detach().numpy())\n",
    "        All['real_myu'].append(real_myu.cpu().detach().numpy())\n",
    "    \n",
    "    # Convert lists to numpy arrays\n",
    "    All = {key: np.concatenate(value, axis=0) for key, value in All.items()}\n",
    "\n",
    "    if complex:\n",
    "        # Convert to complex numbers after converting to numpy arrays\n",
    "        All['u'] = All['u'][:, 0] + All['u'][:, 1] * 1j\n",
    "        All['u_t'] = All['u_t'][:, 0] + All['u_t'][:, 1] * 1j\n",
    "        All['u_x'] = All['u_x'][:, 0] + All['u_x'][:, 1] * 1j\n",
    "        All['u_y'] = All['u_y'][:, 0] + All['u_y'][:, 1] * 1j\n",
    "        All['u_tt'] = All['u_tt'][:, 0] + All['u_tt'][:, 1] * 1j\n",
    "        All['u_xx'] = All['u_xx'][:, 0] + All['u_xx'][:, 1] * 1j\n",
    "        All['u_yy'] = All['u_yy'][:, 0] + All['u_yy'][:, 1] * 1j\n",
    "    \n",
    "    return (All['u'],(All['u_t'], All['u_x'], All['u_y']),(All['u_tt'], All['u_xx'], All['u_yy']),(All['net_myu'], All['real_myu']))\n"
   ]
  },
  {
   "cell_type": "code",
   "execution_count": null,
   "metadata": {},
   "outputs": [],
   "source": [
    "batch_size = 10000\n",
    "dldd.set(epochs = len(dldd)//batch_size, batch_size=batch_size,shuffle=False, verbose=1)\n"
   ]
  },
  {
   "cell_type": "code",
   "execution_count": null,
   "metadata": {},
   "outputs": [],
   "source": [
    "u, (u_t, u_x, u_y), (u_tt, u_xx, u_yy), (net_myu, real_myu) = loader_predict(net,dldd)\n"
   ]
  },
  {
   "cell_type": "code",
   "execution_count": null,
   "metadata": {},
   "outputs": [],
   "source": [
    "A_laplase = np.fft.ifft2(np.fft.fft2(A) * S.q.get())\n",
    "u_laplase = u_xx + u_yy"
   ]
  },
  {
   "cell_type": "code",
   "execution_count": null,
   "metadata": {},
   "outputs": [],
   "source": [
    "np.mean(np.abs((u_laplase - A_laplase.reshape(-1))/ np.abs(u_laplase)))"
   ]
  },
  {
   "cell_type": "code",
   "execution_count": null,
   "metadata": {},
   "outputs": [],
   "source": [
    "i=0\n",
    "L = []\n",
    "pref = u_t - u_xx - u_yy + (np.abs(u)**2) * u\n",
    "pref = torch.tensor(pref)\n",
    "U = torch.tensor(u)\n",
    "M = net.myu.view(-1).to(\"cpu\")\n",
    "\n",
    "for lr in [10,1,0.1,0.01,0.001]:\n",
    "    \n",
    "    myuoptimizer = torch.optim.Adam( params = [net.myuparam], lr=lr ) \n",
    "    myuoptimizer.zero_grad()\n",
    "\n",
    "    FL = []\n",
    "    for _ in tqdm(range(40)):\n",
    "\n",
    "        f =  pref - U * M\n",
    "        FMSE = (torch.abs(f)**2).mean()\n",
    "        FMSE.backward(retain_graph=True)\n",
    "        FL.append(FMSE.cpu().detach().numpy())\n",
    "        myuoptimizer.step()\n",
    "        myuoptimizer.zero_grad()\n",
    "         \n",
    "    plt.plot(range(i,i+len(FL)), FL, label=f'lr={lr}')\n",
    "    i+=len(FL)-1\n",
    "\n",
    "plt.yscale('log')\n",
    "plt.legend()\n",
    "plt.xlabel('epochs')\n",
    "plt.ylabel('FMSE')\n",
    "plt.title('MYU Training')\n",
    "plt.tight_layout()\n",
    "plt.savefig(f'{path}_myutraining.png')\n",
    "plt.show()"
   ]
  },
  {
   "cell_type": "code",
   "execution_count": null,
   "metadata": {},
   "outputs": [],
   "source": [
    "if not os.path.exists(path + \".pt\"):\n",
    "    net.save_model(path + \".pt\")\n"
   ]
  },
  {
   "cell_type": "markdown",
   "metadata": {},
   "source": [
    "### 3rd Stage"
   ]
  },
  {
   "cell_type": "code",
   "execution_count": null,
   "metadata": {},
   "outputs": [],
   "source": [
    "if os.path.exists(path + \".pt\"):\n",
    "    net.load_model(path + \".pt\")\n"
   ]
  },
  {
   "cell_type": "code",
   "execution_count": null,
   "metadata": {},
   "outputs": [],
   "source": [
    "def fmse_mse_batch_trainv2(self, dataloader, lr=0.01, verbose=1, device=\"cpu\"):\n",
    "    criterion = nn.MSELoss()\n",
    "    optimizer = optim.Adam(self.parameters(), lr=lr)\n",
    "    \n",
    "    all_losses = []\n",
    "\n",
    "    for inputs, outputs, myu in dataloader:\n",
    "        optimizer.zero_grad()\n",
    "\n",
    "        net_myu, real_myu = myu.T\n",
    "        net_myu, real_myu = net_myu.view(-1,1), real_myu.view(-1,1)\n",
    "        \n",
    "        u, (u_t, y_x, u_y), (u_tt, u_xx, u_yy) = self(inputs)\n",
    "        \n",
    "        loss = criterion(u, outputs)\n",
    "\n",
    "\n",
    "        pref =  u_t - u_xx - u_yy + torch.pow(torch.abs(u), 2).sum(dim=1, keepdim=True) * u \n",
    "        netf = pref - u * net_myu\n",
    "        realf = pref - u * real_myu\n",
    "        netfloss = torch.mean(netf**2)\n",
    "        realfloss = torch.mean(realf**2)\n",
    "#        loss.backward()\n",
    "        optimizer.step()\n",
    "            \n",
    "\n",
    "        all_losses.append((loss.item(),netfloss.item(),realfloss.item()))\n",
    "    \n",
    "    return all_losses"
   ]
  },
  {
   "cell_type": "code",
   "execution_count": null,
   "metadata": {},
   "outputs": [],
   "source": [
    "lr = 2e-5\n",
    "dldd.set(epochs = 200, batch_size = 4000, shuffle=True, verbose = 2, device = device)\n",
    "L = fmse_mse_batch_trainv2(net, dataloader = dldd, verbose = 1, device = device, lr = lr)\n"
   ]
  },
  {
   "cell_type": "code",
   "execution_count": null,
   "metadata": {},
   "outputs": [],
   "source": [
    "plt.plot(L, label = (\"NMSE\", \"FMSE(Network)\", \"FMSE(Real)\"))\n",
    "plt.legend()\n",
    "plt.yscale('log')\n",
    "plt.xlabel('epochs')\n",
    "plt.ylabel('Custom Loss')\n",
    "plt.title(f'Training of the PCNN \\n lr={lr}')\n",
    "plt.savefig(f'{path}_L_{lr}.png')"
   ]
  },
  {
   "cell_type": "markdown",
   "metadata": {},
   "source": [
    "## Visualizing and saving plot gifs"
   ]
  },
  {
   "cell_type": "code",
   "execution_count": null,
   "metadata": {},
   "outputs": [],
   "source": [
    "class PCNN(nn.Module, SaveLoad, BatchProcessing):\n",
    "    def __init__(self, device = 'cpu'):\n",
    "        super(PCNN, self).__init__()\n",
    "        self.encoder = FCN(layers_list = [3,512]).to(device)\n",
    "        self.decoder = FCN(layers_list = [512,2]).to(device)\n",
    "        self.shuffler = MShuffle(exp_size = 9, n_depth = 4 ).to(device)\n",
    "        self.optimizer = torch.optim.Adam(params = chain(\n",
    "            self.encoder._Wtmx.parameters(),\n",
    "            self.shuffler._Wtmx.parameters(),\n",
    "            self.decoder._Wtmx.parameters(),\n",
    "            ), lr=0.01)\n",
    "        \n",
    "    def forward(self, x):\n",
    "        E = self.encoder.forward(x)\n",
    "        S = self.shuffler.forward(E)\n",
    "        return self.decoder.forward(S)"
   ]
  },
  {
   "cell_type": "code",
   "execution_count": null,
   "metadata": {},
   "outputs": [],
   "source": [
    "lightnet = PCNN().to(device)\n",
    "sd = net.state_dict()\n",
    "del sd['myuparam']\n",
    "lightnet.load_state_dict(sd)"
   ]
  },
  {
   "cell_type": "code",
   "execution_count": null,
   "metadata": {},
   "outputs": [],
   "source": [
    "module_sq = lambda a: np.real(a)**2 + np.imag(a)**2\n",
    "phase = lambda a: np.arcsin(np.real(a)/np.sqrt(np.real(a)**2+np.imag(a)**2))\n",
    "real_imag = lambda a: np.real(a)*np.imag(a)\n",
    "real = lambda a: np.real(a)\n",
    "imag = lambda a: np.imag(a)\n",
    "\n",
    "funlist_name = [\"module_sq\", \"phase\",\"real_imag\",\"real\",\"imag\"]\n",
    "funlist = [module_sq, phase, real_imag, real, imag]\n",
    "\n",
    "myupred = net.myu.cpu().detach().numpy()\n",
    "A = A\n",
    "A_pred = lightnet.batch_predict(dldd.XYT).reshape(A.shape)"
   ]
  },
  {
   "cell_type": "code",
   "execution_count": null,
   "metadata": {},
   "outputs": [],
   "source": [
    "ATenzor = np.array([np.stack([\n",
    "                    np.stack([fun(A) for fun in funlist]),\n",
    "                    np.stack([fun(Ap) for fun in funlist])\n",
    "                    ]) for A, Ap in zip(A, A_pred)])\n",
    "MTenzor = np.array([np.array([m,mp]) for m, mp in zip(myu,myupred)])\n",
    "AMTenzor = np.concatenate((MTenzor[:, :, np.newaxis, :, :], ATenzor), axis=2)"
   ]
  },
  {
   "cell_type": "code",
   "execution_count": null,
   "metadata": {},
   "outputs": [],
   "source": [
    "from lib.Video import create_video\n",
    "create_video(AMTenzor, titles=[['myu'] + funlist_name] * 2, videotitle = f'{path}_after_FMSE.mp4')"
   ]
  },
  {
   "cell_type": "code",
   "execution_count": null,
   "metadata": {},
   "outputs": [],
   "source": []
  },
  {
   "cell_type": "code",
   "execution_count": null,
   "metadata": {},
   "outputs": [],
   "source": []
  }
 ],
 "metadata": {
  "kernelspec": {
   "display_name": "Python 3",
   "language": "python",
   "name": "python3"
  },
  "language_info": {
   "codemirror_mode": {
    "name": "ipython",
    "version": 3
   },
   "file_extension": ".py",
   "mimetype": "text/x-python",
   "name": "python",
   "nbconvert_exporter": "python",
   "pygments_lexer": "ipython3",
   "version": "3.11.5"
  }
 },
 "nbformat": 4,
 "nbformat_minor": 2
}
